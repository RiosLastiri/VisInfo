{
  "nbformat": 4,
  "nbformat_minor": 0,
  "metadata": {
    "anaconda-cloud": {},
    "kernelspec": {
      "display_name": "Python [default]",
      "language": "python",
      "name": "python3"
    },
    "language_info": {
      "codemirror_mode": {
        "name": "ipython",
        "version": 3
      },
      "file_extension": ".py",
      "mimetype": "text/x-python",
      "name": "python",
      "nbconvert_exporter": "python",
      "pygments_lexer": "ipython3",
      "version": "3.5.2"
    },
    "colab": {
      "name": "Tarea 1.ipynb",
      "provenance": []
    }
  },
  "cells": [
    {
      "cell_type": "code",
      "metadata": {
        "id": "EGi4HM8UG6no",
        "colab_type": "code",
        "colab": {
          "resources": {
            "http://localhost:8080/nbextensions/google.colab/files.js": {
              "data": "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",
              "ok": true,
              "headers": [
                [
                  "content-type",
                  "application/javascript"
                ]
              ],
              "status": 200,
              "status_text": "OK"
            }
          },
          "base_uri": "https://localhost:8080/",
          "height": 74
        },
        "outputId": "8ac8a5bf-22a0-45fb-f378-5aa4b56001f8"
      },
      "source": [
        "from google.colab import files\n",
        "uploaded = files.upload()"
      ],
      "execution_count": 3,
      "outputs": [
        {
          "output_type": "display_data",
          "data": {
            "text/html": [
              "\n",
              "     <input type=\"file\" id=\"files-e3984bb5-5b94-4179-8c62-3be002a19c33\" name=\"files[]\" multiple disabled />\n",
              "     <output id=\"result-e3984bb5-5b94-4179-8c62-3be002a19c33\">\n",
              "      Upload widget is only available when the cell has been executed in the\n",
              "      current browser session. Please rerun this cell to enable.\n",
              "      </output>\n",
              "      <script src=\"/nbextensions/google.colab/files.js\"></script> "
            ],
            "text/plain": [
              "<IPython.core.display.HTML object>"
            ]
          },
          "metadata": {
            "tags": []
          }
        },
        {
          "output_type": "stream",
          "text": [
            "Saving data.csv to data.csv\n"
          ],
          "name": "stdout"
        }
      ]
    },
    {
      "cell_type": "code",
      "metadata": {
        "id": "G18sQrg0GsdA",
        "colab_type": "code",
        "colab": {}
      },
      "source": [
        "import pandas as pd\n",
        "import matplotlib.pyplot as plt\n",
        "%matplotlib inline"
      ],
      "execution_count": 0,
      "outputs": []
    },
    {
      "cell_type": "markdown",
      "metadata": {
        "id": "7V7CJpbHGsdW",
        "colab_type": "text"
      },
      "source": [
        "1. Encontrar el valor atípico y explicar por qué se considera un valor extraño."
      ]
    },
    {
      "cell_type": "code",
      "metadata": {
        "id": "dNWW0IhZGsdg",
        "colab_type": "code",
        "colab": {
          "base_uri": "https://localhost:8080/",
          "height": 206
        },
        "outputId": "3bf54f8d-3e6f-4980-afab-9b6dbfb29689"
      },
      "source": [
        "df=pd.read_csv(\"data.csv\")\n",
        "df.head()"
      ],
      "execution_count": 4,
      "outputs": [
        {
          "output_type": "execute_result",
          "data": {
            "text/html": [
              "<div>\n",
              "<style scoped>\n",
              "    .dataframe tbody tr th:only-of-type {\n",
              "        vertical-align: middle;\n",
              "    }\n",
              "\n",
              "    .dataframe tbody tr th {\n",
              "        vertical-align: top;\n",
              "    }\n",
              "\n",
              "    .dataframe thead th {\n",
              "        text-align: right;\n",
              "    }\n",
              "</style>\n",
              "<table border=\"1\" class=\"dataframe\">\n",
              "  <thead>\n",
              "    <tr style=\"text-align: right;\">\n",
              "      <th></th>\n",
              "      <th>Proceso</th>\n",
              "      <th>Time [s]</th>\n",
              "    </tr>\n",
              "  </thead>\n",
              "  <tbody>\n",
              "    <tr>\n",
              "      <th>0</th>\n",
              "      <td>1</td>\n",
              "      <td>29278</td>\n",
              "    </tr>\n",
              "    <tr>\n",
              "      <th>1</th>\n",
              "      <td>16</td>\n",
              "      <td>178</td>\n",
              "    </tr>\n",
              "    <tr>\n",
              "      <th>2</th>\n",
              "      <td>25</td>\n",
              "      <td>78</td>\n",
              "    </tr>\n",
              "    <tr>\n",
              "      <th>3</th>\n",
              "      <td>64</td>\n",
              "      <td>16</td>\n",
              "    </tr>\n",
              "    <tr>\n",
              "      <th>4</th>\n",
              "      <td>256</td>\n",
              "      <td>2</td>\n",
              "    </tr>\n",
              "  </tbody>\n",
              "</table>\n",
              "</div>"
            ],
            "text/plain": [
              "   Proceso  Time [s]\n",
              "0        1     29278\n",
              "1       16       178\n",
              "2       25        78\n",
              "3       64        16\n",
              "4      256         2"
            ]
          },
          "metadata": {
            "tags": []
          },
          "execution_count": 4
        }
      ]
    },
    {
      "cell_type": "markdown",
      "metadata": {
        "id": "Ps3j9IC5Gsds",
        "colab_type": "text"
      },
      "source": [
        "Si graficamos las datos podemos observar un punto muy alejado de los demas"
      ]
    },
    {
      "cell_type": "code",
      "metadata": {
        "id": "C4QqVU-MGsdz",
        "colab_type": "code",
        "colab": {
          "base_uri": "https://localhost:8080/",
          "height": 284
        },
        "outputId": "0cde089a-1484-49ff-d0d8-ecf0df3b09d0"
      },
      "source": [
        "plt.scatter(df[\"Proceso\"], df[\"Time [s]\"])"
      ],
      "execution_count": 5,
      "outputs": [
        {
          "output_type": "execute_result",
          "data": {
            "text/plain": [
              "<matplotlib.collections.PathCollection at 0x7fba7c494b38>"
            ]
          },
          "metadata": {
            "tags": []
          },
          "execution_count": 5
        },
        {
          "output_type": "display_data",
          "data": {
            "image/png": "[encoded data removed]",
            "text/plain": [
              "<Figure size 432x288 with 1 Axes>"
            ]
          },
          "metadata": {
            "tags": []
          }
        }
      ]
    },
    {
      "cell_type": "markdown",
      "metadata": {
        "id": "GBgrfjd-GseA",
        "colab_type": "text"
      },
      "source": [
        "2.Crear un archivo de esos datos en el formato CSV y leerlo en un Dataframe de Pandas."
      ]
    },
    {
      "cell_type": "code",
      "metadata": {
        "id": "neKWHg9VGseF",
        "colab_type": "code",
        "colab": {
          "base_uri": "https://localhost:8080/",
          "height": 206
        },
        "outputId": "6943c4a2-d997-4e31-bb9f-50bcb3a603ea"
      },
      "source": [
        "df.head()"
      ],
      "execution_count": 6,
      "outputs": [
        {
          "output_type": "execute_result",
          "data": {
            "text/html": [
              "<div>\n",
              "<style scoped>\n",
              "    .dataframe tbody tr th:only-of-type {\n",
              "        vertical-align: middle;\n",
              "    }\n",
              "\n",
              "    .dataframe tbody tr th {\n",
              "        vertical-align: top;\n",
              "    }\n",
              "\n",
              "    .dataframe thead th {\n",
              "        text-align: right;\n",
              "    }\n",
              "</style>\n",
              "<table border=\"1\" class=\"dataframe\">\n",
              "  <thead>\n",
              "    <tr style=\"text-align: right;\">\n",
              "      <th></th>\n",
              "      <th>Proceso</th>\n",
              "      <th>Time [s]</th>\n",
              "    </tr>\n",
              "  </thead>\n",
              "  <tbody>\n",
              "    <tr>\n",
              "      <th>0</th>\n",
              "      <td>1</td>\n",
              "      <td>29278</td>\n",
              "    </tr>\n",
              "    <tr>\n",
              "      <th>1</th>\n",
              "      <td>16</td>\n",
              "      <td>178</td>\n",
              "    </tr>\n",
              "    <tr>\n",
              "      <th>2</th>\n",
              "      <td>25</td>\n",
              "      <td>78</td>\n",
              "    </tr>\n",
              "    <tr>\n",
              "      <th>3</th>\n",
              "      <td>64</td>\n",
              "      <td>16</td>\n",
              "    </tr>\n",
              "    <tr>\n",
              "      <th>4</th>\n",
              "      <td>256</td>\n",
              "      <td>2</td>\n",
              "    </tr>\n",
              "  </tbody>\n",
              "</table>\n",
              "</div>"
            ],
            "text/plain": [
              "   Proceso  Time [s]\n",
              "0        1     29278\n",
              "1       16       178\n",
              "2       25        78\n",
              "3       64        16\n",
              "4      256         2"
            ]
          },
          "metadata": {
            "tags": []
          },
          "execution_count": 6
        }
      ]
    },
    {
      "cell_type": "markdown",
      "metadata": {
        "id": "6ayw55ZQGseR",
        "colab_type": "text"
      },
      "source": [
        "3.Completar las columnas de Speeup, Efficiency y Cost usando las fórmulas mostradas en la diapositiva 6, tanto para el caso absoluto como para el caso relativo con p' = 16. Agregar estos datos al dataframe antes creado y realizar los gráficos correspondientes usando Matplotlib."
      ]
    },
    {
      "cell_type": "code",
      "metadata": {
        "id": "2JOxi2vpGseb",
        "colab_type": "code",
        "colab": {}
      },
      "source": [
        "def aceleracion(t1,tp):\n",
        "    return t1/tp\n",
        "def eficiencia (Sp,P):\n",
        "    return Sp/P\n",
        "def costo (P,tp):\n",
        "    return P*tp\n",
        "def aceleracionRelativa(tp_prima, tp):\n",
        "    return tp_prima/tp\n",
        "def eficienciaRelativa (p_prima, Sp_prima, P):\n",
        "    return p_prima*(Sp_prima/P)\n",
        "def maxAceleracionRelativa (tp_prima, tp):\n",
        "    return tp/tp_prima"
      ],
      "execution_count": 0,
      "outputs": []
    },
    {
      "cell_type": "code",
      "metadata": {
        "id": "cl5Go7mgGsel",
        "colab_type": "code",
        "colab": {
          "base_uri": "https://localhost:8080/",
          "height": 206
        },
        "outputId": "3bcebd4a-5396-4089-bdec-8372df4f0e9c"
      },
      "source": [
        "#Datos\n",
        "t1=df[\"Time [s]\"][0]\n",
        "p_prima=16\n",
        "tp_prima=df[\"Time [s]\"][1]\n",
        "\n",
        "##Creacion de columnas\n",
        "#Valores Absolutos\n",
        "df[\"Sp\"]= aceleracion(t1,df[\"Time [s]\"])\n",
        "df[\"Eff\"]=eficiencia(df[\"Sp\"], df[\"Proceso\"])\n",
        "df[\"Cp\"]=costo(df[\"Proceso\"], df[\"Time [s]\"])\n",
        "\n",
        "#Valores Relativos\n",
        "df[\"Sp_r\"]= aceleracionRelativa(tp_prima,df[\"Time [s]\"])\n",
        "df[\"Eff_r\"]=eficienciaRelativa(p_prima,df[\"Sp_r\"], df[\"Proceso\"])\n",
        "df[\"Sp' MAX\"]=maxAceleracionRelativa(tp_prima,df[\"Time [s]\"])\n",
        "df.head()"
      ],
      "execution_count": 45,
      "outputs": [
        {
          "output_type": "execute_result",
          "data": {
            "text/html": [
              "<div>\n",
              "<style scoped>\n",
              "    .dataframe tbody tr th:only-of-type {\n",
              "        vertical-align: middle;\n",
              "    }\n",
              "\n",
              "    .dataframe tbody tr th {\n",
              "        vertical-align: top;\n",
              "    }\n",
              "\n",
              "    .dataframe thead th {\n",
              "        text-align: right;\n",
              "    }\n",
              "</style>\n",
              "<table border=\"1\" class=\"dataframe\">\n",
              "  <thead>\n",
              "    <tr style=\"text-align: right;\">\n",
              "      <th></th>\n",
              "      <th>Proceso</th>\n",
              "      <th>Time [s]</th>\n",
              "      <th>Sp</th>\n",
              "      <th>Eff</th>\n",
              "      <th>Cp</th>\n",
              "      <th>Sp_r</th>\n",
              "      <th>Eff_r</th>\n",
              "      <th>Sp' MAX</th>\n",
              "    </tr>\n",
              "  </thead>\n",
              "  <tbody>\n",
              "    <tr>\n",
              "      <th>0</th>\n",
              "      <td>1</td>\n",
              "      <td>29278</td>\n",
              "      <td>1.000000</td>\n",
              "      <td>1.000000</td>\n",
              "      <td>29278</td>\n",
              "      <td>0.006080</td>\n",
              "      <td>0.097274</td>\n",
              "      <td>164.483146</td>\n",
              "    </tr>\n",
              "    <tr>\n",
              "      <th>1</th>\n",
              "      <td>16</td>\n",
              "      <td>178</td>\n",
              "      <td>164.483146</td>\n",
              "      <td>10.280197</td>\n",
              "      <td>2848</td>\n",
              "      <td>1.000000</td>\n",
              "      <td>1.000000</td>\n",
              "      <td>1.000000</td>\n",
              "    </tr>\n",
              "    <tr>\n",
              "      <th>2</th>\n",
              "      <td>25</td>\n",
              "      <td>78</td>\n",
              "      <td>375.358974</td>\n",
              "      <td>15.014359</td>\n",
              "      <td>1950</td>\n",
              "      <td>2.282051</td>\n",
              "      <td>1.460513</td>\n",
              "      <td>0.438202</td>\n",
              "    </tr>\n",
              "    <tr>\n",
              "      <th>3</th>\n",
              "      <td>64</td>\n",
              "      <td>16</td>\n",
              "      <td>1829.875000</td>\n",
              "      <td>28.591797</td>\n",
              "      <td>1024</td>\n",
              "      <td>11.125000</td>\n",
              "      <td>2.781250</td>\n",
              "      <td>0.089888</td>\n",
              "    </tr>\n",
              "    <tr>\n",
              "      <th>4</th>\n",
              "      <td>256</td>\n",
              "      <td>2</td>\n",
              "      <td>14639.000000</td>\n",
              "      <td>57.183594</td>\n",
              "      <td>512</td>\n",
              "      <td>89.000000</td>\n",
              "      <td>5.562500</td>\n",
              "      <td>0.011236</td>\n",
              "    </tr>\n",
              "  </tbody>\n",
              "</table>\n",
              "</div>"
            ],
            "text/plain": [
              "   Proceso  Time [s]            Sp  ...       Sp_r     Eff_r     Sp' MAX\n",
              "0        1     29278      1.000000  ...   0.006080  0.097274  164.483146\n",
              "1       16       178    164.483146  ...   1.000000  1.000000    1.000000\n",
              "2       25        78    375.358974  ...   2.282051  1.460513    0.438202\n",
              "3       64        16   1829.875000  ...  11.125000  2.781250    0.089888\n",
              "4      256         2  14639.000000  ...  89.000000  5.562500    0.011236\n",
              "\n",
              "[5 rows x 8 columns]"
            ]
          },
          "metadata": {
            "tags": []
          },
          "execution_count": 45
        }
      ]
    },
    {
      "cell_type": "code",
      "metadata": {
        "id": "y0EVkrW7Gset",
        "colab_type": "code",
        "colab": {
          "base_uri": "https://localhost:8080/",
          "height": 388
        },
        "outputId": "d6d5e1a7-8170-4064-f255-1c21f26b6e56"
      },
      "source": [
        "fig, axes = plt.subplots(nrows=1, ncols=2, figsize=(10,6))\n",
        "axes[0].plot(df[\"Proceso\"],df[\"Sp\"],label=\"Aceleracion relativa\")\n",
        "axes[0].plot(df[\"Proceso\"],aceleracion(df[\"Proceso\"],df[\"Proceso\"]),label=\"Linear\")\n",
        "axes[0].scatter(df[\"Proceso\"],df[\"Sp\"])\n",
        "axes[0].set(xlabel=\"Proceso\", ylabel=\"Sp\")\n",
        "axes[0].legend()\n",
        "axes[0].grid()\n",
        "\n",
        "axes[1].plot(df[\"Proceso\"],df[\"Eff\"],label=\"Eficiencia\")\n",
        "axes[1].plot(df[\"Proceso\"],eficiencia(df[\"Sp\"],df[\"Sp\"]),label=\"Max efficiency\")\n",
        "axes[1].scatter(df[\"Proceso\"],df[\"Eff\"])\n",
        "axes[1].set(xlabel=\"Proceso\", ylabel=\"Eff\")\n",
        "axes[1].legend()\n",
        "axes[1].grid()"
      ],
      "execution_count": 65,
      "outputs": [
        {
          "output_type": "display_data",
          "data": {
            "image/png": "[encoded data removed]",
            "text/plain": [
              "<Figure size 720x432 with 2 Axes>"
            ]
          },
          "metadata": {
            "tags": []
          }
        }
      ]
    },
    {
      "cell_type": "code",
      "metadata": {
        "id": "xHwRL-HIGse6",
        "colab_type": "code",
        "colab": {
          "base_uri": "https://localhost:8080/",
          "height": 388
        },
        "outputId": "a736ee56-d37b-4d59-fa62-457715697ec6"
      },
      "source": [
        "fig, axes = plt.subplots(nrows=1, ncols=2, figsize=(10,6))\n",
        "axes[0].plot(df[\"Proceso\"],df[\"Sp_r\"],label=\"Aceleracion relativa\")\n",
        "axes[0].plot(df[\"Proceso\"],aceleracion(df[\"Proceso\"],df[\"Proceso\"]),label=\"Linear\")\n",
        "axes[0].set(xlabel=\"Proceso\", ylabel=\"Sp_r\")\n",
        "axes[0].legend()\n",
        "axes[0].grid()\n",
        "\n",
        "axes[1].plot(df[\"Proceso\"],df[\"Eff_r\"],label=\"Eficiencia relativa\")\n",
        "axes[1].plot(df[\"Proceso\"],eficiencia(df[\"Sp\"],df[\"Sp\"]),label=\"Max efficiency\")\n",
        "axes[1].set(xlabel=\"Proceso\", ylabel=\"Eff_r\")\n",
        "axes[1].legend()\n",
        "axes[1].grid()"
      ],
      "execution_count": 61,
      "outputs": [
        {
          "output_type": "display_data",
          "data": {
            "image/png": "[encoded data removed]",
            "text/plain": [
              "<Figure size 720x432 with 2 Axes>"
            ]
          },
          "metadata": {
            "tags": []
          }
        }
      ]
    },
    {
      "cell_type": "markdown",
      "metadata": {
        "id": "p2-TtTygGsfA",
        "colab_type": "text"
      },
      "source": [
        "4.Generar información similar al punto 2, sustituyendo el valor atípico por el valor mostrado en la transparencia 9.  Agregar estos datos al dataframe antes creado y realizar los gráficos correspondientes usando Matplotlib."
      ]
    },
    {
      "cell_type": "code",
      "metadata": {
        "id": "8rq_9CztGsfD",
        "colab_type": "code",
        "colab": {
          "base_uri": "https://localhost:8080/",
          "height": 299
        },
        "outputId": "51f22712-0455-4fee-d5a4-f3520e1ec729"
      },
      "source": [
        "#Sin valores atipicos\n",
        "df2=df.copy()\n",
        "df2[\"Time [s]\"][0]=430\n",
        "df2.head()"
      ],
      "execution_count": 11,
      "outputs": [
        {
          "output_type": "stream",
          "text": [
            "/usr/local/lib/python3.6/dist-packages/ipykernel_launcher.py:2: SettingWithCopyWarning: \n",
            "A value is trying to be set on a copy of a slice from a DataFrame\n",
            "\n",
            "See the caveats in the documentation: http://pandas.pydata.org/pandas-docs/stable/user_guide/indexing.html#returning-a-view-versus-a-copy\n",
            "  \n"
          ],
          "name": "stderr"
        },
        {
          "output_type": "execute_result",
          "data": {
            "text/html": [
              "<div>\n",
              "<style scoped>\n",
              "    .dataframe tbody tr th:only-of-type {\n",
              "        vertical-align: middle;\n",
              "    }\n",
              "\n",
              "    .dataframe tbody tr th {\n",
              "        vertical-align: top;\n",
              "    }\n",
              "\n",
              "    .dataframe thead th {\n",
              "        text-align: right;\n",
              "    }\n",
              "</style>\n",
              "<table border=\"1\" class=\"dataframe\">\n",
              "  <thead>\n",
              "    <tr style=\"text-align: right;\">\n",
              "      <th></th>\n",
              "      <th>Proceso</th>\n",
              "      <th>Time [s]</th>\n",
              "      <th>Sp</th>\n",
              "      <th>Eff</th>\n",
              "      <th>Cp</th>\n",
              "      <th>Sp_r</th>\n",
              "      <th>Eff_r</th>\n",
              "    </tr>\n",
              "  </thead>\n",
              "  <tbody>\n",
              "    <tr>\n",
              "      <th>0</th>\n",
              "      <td>1</td>\n",
              "      <td>430</td>\n",
              "      <td>1.000000</td>\n",
              "      <td>1.000000</td>\n",
              "      <td>29278</td>\n",
              "      <td>0.006080</td>\n",
              "      <td>0.097274</td>\n",
              "    </tr>\n",
              "    <tr>\n",
              "      <th>1</th>\n",
              "      <td>16</td>\n",
              "      <td>178</td>\n",
              "      <td>164.483146</td>\n",
              "      <td>10.280197</td>\n",
              "      <td>2848</td>\n",
              "      <td>1.000000</td>\n",
              "      <td>1.000000</td>\n",
              "    </tr>\n",
              "    <tr>\n",
              "      <th>2</th>\n",
              "      <td>25</td>\n",
              "      <td>78</td>\n",
              "      <td>375.358974</td>\n",
              "      <td>15.014359</td>\n",
              "      <td>1950</td>\n",
              "      <td>2.282051</td>\n",
              "      <td>1.460513</td>\n",
              "    </tr>\n",
              "    <tr>\n",
              "      <th>3</th>\n",
              "      <td>64</td>\n",
              "      <td>16</td>\n",
              "      <td>1829.875000</td>\n",
              "      <td>28.591797</td>\n",
              "      <td>1024</td>\n",
              "      <td>11.125000</td>\n",
              "      <td>2.781250</td>\n",
              "    </tr>\n",
              "    <tr>\n",
              "      <th>4</th>\n",
              "      <td>256</td>\n",
              "      <td>2</td>\n",
              "      <td>14639.000000</td>\n",
              "      <td>57.183594</td>\n",
              "      <td>512</td>\n",
              "      <td>89.000000</td>\n",
              "      <td>5.562500</td>\n",
              "    </tr>\n",
              "  </tbody>\n",
              "</table>\n",
              "</div>"
            ],
            "text/plain": [
              "   Proceso  Time [s]            Sp        Eff     Cp       Sp_r     Eff_r\n",
              "0        1       430      1.000000   1.000000  29278   0.006080  0.097274\n",
              "1       16       178    164.483146  10.280197   2848   1.000000  1.000000\n",
              "2       25        78    375.358974  15.014359   1950   2.282051  1.460513\n",
              "3       64        16   1829.875000  28.591797   1024  11.125000  2.781250\n",
              "4      256         2  14639.000000  57.183594    512  89.000000  5.562500"
            ]
          },
          "metadata": {
            "tags": []
          },
          "execution_count": 11
        }
      ]
    },
    {
      "cell_type": "code",
      "metadata": {
        "id": "A9L9EbJeGsfM",
        "colab_type": "code",
        "colab": {
          "base_uri": "https://localhost:8080/",
          "height": 206
        },
        "outputId": "1a1d9b38-d3d5-487f-9e8b-61ef22a9b884"
      },
      "source": [
        "#Datos\n",
        "t1=df2[\"Time [s]\"][0]\n",
        "p_prima=16\n",
        "tp_prima=df2[\"Time [s]\"][1]\n",
        "\n",
        "#Creacion de columnas\n",
        "#Valores Absolutos\n",
        "df2[\"Sp\"]= aceleracion(t1,df2[\"Time [s]\"])\n",
        "df2[\"Eff\"]=eficiencia(df2[\"Sp\"], df2[\"Proceso\"])\n",
        "df2[\"Cp\"]=costo(df2[\"Proceso\"], df2[\"Time [s]\"])\n",
        "\n",
        "df2.to_csv(\"datos_sin_atipicos.csv\")\n",
        "df2.head()"
      ],
      "execution_count": 12,
      "outputs": [
        {
          "output_type": "execute_result",
          "data": {
            "text/html": [
              "<div>\n",
              "<style scoped>\n",
              "    .dataframe tbody tr th:only-of-type {\n",
              "        vertical-align: middle;\n",
              "    }\n",
              "\n",
              "    .dataframe tbody tr th {\n",
              "        vertical-align: top;\n",
              "    }\n",
              "\n",
              "    .dataframe thead th {\n",
              "        text-align: right;\n",
              "    }\n",
              "</style>\n",
              "<table border=\"1\" class=\"dataframe\">\n",
              "  <thead>\n",
              "    <tr style=\"text-align: right;\">\n",
              "      <th></th>\n",
              "      <th>Proceso</th>\n",
              "      <th>Time [s]</th>\n",
              "      <th>Sp</th>\n",
              "      <th>Eff</th>\n",
              "      <th>Cp</th>\n",
              "      <th>Sp_r</th>\n",
              "      <th>Eff_r</th>\n",
              "    </tr>\n",
              "  </thead>\n",
              "  <tbody>\n",
              "    <tr>\n",
              "      <th>0</th>\n",
              "      <td>1</td>\n",
              "      <td>430</td>\n",
              "      <td>1.000000</td>\n",
              "      <td>1.000000</td>\n",
              "      <td>430</td>\n",
              "      <td>0.006080</td>\n",
              "      <td>0.097274</td>\n",
              "    </tr>\n",
              "    <tr>\n",
              "      <th>1</th>\n",
              "      <td>16</td>\n",
              "      <td>178</td>\n",
              "      <td>2.415730</td>\n",
              "      <td>0.150983</td>\n",
              "      <td>2848</td>\n",
              "      <td>1.000000</td>\n",
              "      <td>1.000000</td>\n",
              "    </tr>\n",
              "    <tr>\n",
              "      <th>2</th>\n",
              "      <td>25</td>\n",
              "      <td>78</td>\n",
              "      <td>5.512821</td>\n",
              "      <td>0.220513</td>\n",
              "      <td>1950</td>\n",
              "      <td>2.282051</td>\n",
              "      <td>1.460513</td>\n",
              "    </tr>\n",
              "    <tr>\n",
              "      <th>3</th>\n",
              "      <td>64</td>\n",
              "      <td>16</td>\n",
              "      <td>26.875000</td>\n",
              "      <td>0.419922</td>\n",
              "      <td>1024</td>\n",
              "      <td>11.125000</td>\n",
              "      <td>2.781250</td>\n",
              "    </tr>\n",
              "    <tr>\n",
              "      <th>4</th>\n",
              "      <td>256</td>\n",
              "      <td>2</td>\n",
              "      <td>215.000000</td>\n",
              "      <td>0.839844</td>\n",
              "      <td>512</td>\n",
              "      <td>89.000000</td>\n",
              "      <td>5.562500</td>\n",
              "    </tr>\n",
              "  </tbody>\n",
              "</table>\n",
              "</div>"
            ],
            "text/plain": [
              "   Proceso  Time [s]          Sp       Eff    Cp       Sp_r     Eff_r\n",
              "0        1       430    1.000000  1.000000   430   0.006080  0.097274\n",
              "1       16       178    2.415730  0.150983  2848   1.000000  1.000000\n",
              "2       25        78    5.512821  0.220513  1950   2.282051  1.460513\n",
              "3       64        16   26.875000  0.419922  1024  11.125000  2.781250\n",
              "4      256         2  215.000000  0.839844   512  89.000000  5.562500"
            ]
          },
          "metadata": {
            "tags": []
          },
          "execution_count": 12
        }
      ]
    },
    {
      "cell_type": "code",
      "metadata": {
        "id": "439kCOkDGsfX",
        "colab_type": "code",
        "colab": {
          "base_uri": "https://localhost:8080/",
          "height": 388
        },
        "outputId": "dfce7b61-375e-495a-8900-72d63e227eb8"
      },
      "source": [
        "#Sin atipicos\n",
        "fig, axes = plt.subplots(nrows=1, ncols=2, figsize=(10,6))\n",
        "axes[0].plot(df2[\"Proceso\"],df[\"Sp\"],label=\"Aceleracion\")\n",
        "axes[0].set(xlabel=\"Proceso\", ylabel=\"Sp_r\")\n",
        "axes[0].legend()\n",
        "axes[0].grid()\n",
        "\n",
        "axes[1].plot(df2[\"Proceso\"],df2[\"Eff\"],label=\"Eficiencia\")\n",
        "axes[1].plot(df2[\"Proceso\"],eficiencia(df2[\"Sp\"],df2[\"Sp\"]),label=\"Max efficiency\")\n",
        "axes[1].set(xlabel=\"Proceso\", ylabel=\"Eff\")\n",
        "axes[1].legend()\n",
        "axes[1].grid()"
      ],
      "execution_count": 67,
      "outputs": [
        {
          "output_type": "display_data",
          "data": {
            "image/png": "[encoded data removed]",
            "text/plain": [
              "<Figure size 720x432 with 2 Axes>"
            ]
          },
          "metadata": {
            "tags": []
          }
        }
      ]
    },
    {
      "cell_type": "markdown",
      "metadata": {
        "collapsed": true,
        "id": "Zn8ks55xGsfh",
        "colab_type": "text"
      },
      "source": [
        "5.Contar la historia del análisis de esta información usando gráficos que resalten lo realizado en los incisos 2 y 3."
      ]
    },
    {
      "cell_type": "markdown",
      "metadata": {
        "id": "Z00zO1a_Gsfj",
        "colab_type": "text"
      },
      "source": [
        "Si observamos los estadisticos descriptivos de los datos podemos observar que tenemos una desviacion estandar bastante grande debido al valor atipico de 29278seg.\n",
        "Haciendo uso del digrama de cajas es mas facil distinguir ese valor atipico."
      ]
    },
    {
      "cell_type": "code",
      "metadata": {
        "id": "_Ff8jWT8Gsfk",
        "colab_type": "code",
        "colab": {
          "base_uri": "https://localhost:8080/",
          "height": 548
        },
        "outputId": "8ff134c8-613a-4434-f88b-5eb2e0dcfe89"
      },
      "source": [
        "plt.boxplot(df[\"Time [s]\"],patch_artist=True,labels=[\"Time\"])\n",
        "df.describe()"
      ],
      "execution_count": 14,
      "outputs": [
        {
          "output_type": "execute_result",
          "data": {
            "text/html": [
              "<div>\n",
              "<style scoped>\n",
              "    .dataframe tbody tr th:only-of-type {\n",
              "        vertical-align: middle;\n",
              "    }\n",
              "\n",
              "    .dataframe tbody tr th {\n",
              "        vertical-align: top;\n",
              "    }\n",
              "\n",
              "    .dataframe thead th {\n",
              "        text-align: right;\n",
              "    }\n",
              "</style>\n",
              "<table border=\"1\" class=\"dataframe\">\n",
              "  <thead>\n",
              "    <tr style=\"text-align: right;\">\n",
              "      <th></th>\n",
              "      <th>Proceso</th>\n",
              "      <th>Time [s]</th>\n",
              "      <th>Sp</th>\n",
              "      <th>Eff</th>\n",
              "      <th>Cp</th>\n",
              "      <th>Sp_r</th>\n",
              "      <th>Eff_r</th>\n",
              "    </tr>\n",
              "  </thead>\n",
              "  <tbody>\n",
              "    <tr>\n",
              "      <th>count</th>\n",
              "      <td>6.000000</td>\n",
              "      <td>6.000000</td>\n",
              "      <td>6.000000</td>\n",
              "      <td>6.000000</td>\n",
              "      <td>6.000000</td>\n",
              "      <td>6.000000</td>\n",
              "      <td>6.000000</td>\n",
              "    </tr>\n",
              "    <tr>\n",
              "      <th>mean</th>\n",
              "      <td>127.000000</td>\n",
              "      <td>4925.500000</td>\n",
              "      <td>7714.619520</td>\n",
              "      <td>30.877491</td>\n",
              "      <td>6002.000000</td>\n",
              "      <td>46.902188</td>\n",
              "      <td>3.003590</td>\n",
              "    </tr>\n",
              "    <tr>\n",
              "      <th>std</th>\n",
              "      <td>163.548158</td>\n",
              "      <td>11930.431773</td>\n",
              "      <td>11982.703130</td>\n",
              "      <td>28.483535</td>\n",
              "      <td>11440.643199</td>\n",
              "      <td>72.850644</td>\n",
              "      <td>2.770719</td>\n",
              "    </tr>\n",
              "    <tr>\n",
              "      <th>min</th>\n",
              "      <td>1.000000</td>\n",
              "      <td>1.000000</td>\n",
              "      <td>1.000000</td>\n",
              "      <td>1.000000</td>\n",
              "      <td>400.000000</td>\n",
              "      <td>0.006080</td>\n",
              "      <td>0.097274</td>\n",
              "    </tr>\n",
              "    <tr>\n",
              "      <th>25%</th>\n",
              "      <td>18.250000</td>\n",
              "      <td>5.500000</td>\n",
              "      <td>217.202103</td>\n",
              "      <td>11.463737</td>\n",
              "      <td>640.000000</td>\n",
              "      <td>1.320513</td>\n",
              "      <td>1.115128</td>\n",
              "    </tr>\n",
              "    <tr>\n",
              "      <th>50%</th>\n",
              "      <td>44.500000</td>\n",
              "      <td>47.000000</td>\n",
              "      <td>1102.616987</td>\n",
              "      <td>21.803078</td>\n",
              "      <td>1487.000000</td>\n",
              "      <td>6.703526</td>\n",
              "      <td>2.120881</td>\n",
              "    </tr>\n",
              "    <tr>\n",
              "      <th>75%</th>\n",
              "      <td>208.000000</td>\n",
              "      <td>153.000000</td>\n",
              "      <td>11436.718750</td>\n",
              "      <td>50.035645</td>\n",
              "      <td>2623.500000</td>\n",
              "      <td>69.531250</td>\n",
              "      <td>4.867188</td>\n",
              "    </tr>\n",
              "    <tr>\n",
              "      <th>max</th>\n",
              "      <td>400.000000</td>\n",
              "      <td>29278.000000</td>\n",
              "      <td>29278.000000</td>\n",
              "      <td>73.195000</td>\n",
              "      <td>29278.000000</td>\n",
              "      <td>178.000000</td>\n",
              "      <td>7.120000</td>\n",
              "    </tr>\n",
              "  </tbody>\n",
              "</table>\n",
              "</div>"
            ],
            "text/plain": [
              "          Proceso      Time [s]  ...        Sp_r     Eff_r\n",
              "count    6.000000      6.000000  ...    6.000000  6.000000\n",
              "mean   127.000000   4925.500000  ...   46.902188  3.003590\n",
              "std    163.548158  11930.431773  ...   72.850644  2.770719\n",
              "min      1.000000      1.000000  ...    0.006080  0.097274\n",
              "25%     18.250000      5.500000  ...    1.320513  1.115128\n",
              "50%     44.500000     47.000000  ...    6.703526  2.120881\n",
              "75%    208.000000    153.000000  ...   69.531250  4.867188\n",
              "max    400.000000  29278.000000  ...  178.000000  7.120000\n",
              "\n",
              "[8 rows x 7 columns]"
            ]
          },
          "metadata": {
            "tags": []
          },
          "execution_count": 14
        },
        {
          "output_type": "display_data",
          "data": {
            "image/png": "[encoded data removed]",
            "text/plain": [
              "<Figure size 432x288 with 1 Axes>"
            ]
          },
          "metadata": {
            "tags": []
          }
        }
      ]
    },
    {
      "cell_type": "markdown",
      "metadata": {
        "id": "L1t413TyGsfs",
        "colab_type": "text"
      },
      "source": [
        "Si cambiamos ese valor atipico por 430 y realizamos el procedimiento anterior podemos ver que la dispercion de los datos disminuye."
      ]
    },
    {
      "cell_type": "code",
      "metadata": {
        "id": "RlsioWbfGsfv",
        "colab_type": "code",
        "colab": {
          "base_uri": "https://localhost:8080/",
          "height": 548
        },
        "outputId": "342af005-cfe4-4496-ddd5-093231e90265"
      },
      "source": [
        "plt.boxplot(df2[\"Time [s]\"],patch_artist=True,labels=[\"Time\"])\n",
        "df2.describe()"
      ],
      "execution_count": 15,
      "outputs": [
        {
          "output_type": "execute_result",
          "data": {
            "text/html": [
              "<div>\n",
              "<style scoped>\n",
              "    .dataframe tbody tr th:only-of-type {\n",
              "        vertical-align: middle;\n",
              "    }\n",
              "\n",
              "    .dataframe tbody tr th {\n",
              "        vertical-align: top;\n",
              "    }\n",
              "\n",
              "    .dataframe thead th {\n",
              "        text-align: right;\n",
              "    }\n",
              "</style>\n",
              "<table border=\"1\" class=\"dataframe\">\n",
              "  <thead>\n",
              "    <tr style=\"text-align: right;\">\n",
              "      <th></th>\n",
              "      <th>Proceso</th>\n",
              "      <th>Time [s]</th>\n",
              "      <th>Sp</th>\n",
              "      <th>Eff</th>\n",
              "      <th>Cp</th>\n",
              "      <th>Sp_r</th>\n",
              "      <th>Eff_r</th>\n",
              "    </tr>\n",
              "  </thead>\n",
              "  <tbody>\n",
              "    <tr>\n",
              "      <th>count</th>\n",
              "      <td>6.000000</td>\n",
              "      <td>6.000000</td>\n",
              "      <td>6.000000</td>\n",
              "      <td>6.000000</td>\n",
              "      <td>6.000000</td>\n",
              "      <td>6.000000</td>\n",
              "      <td>6.000000</td>\n",
              "    </tr>\n",
              "    <tr>\n",
              "      <th>mean</th>\n",
              "      <td>127.000000</td>\n",
              "      <td>117.500000</td>\n",
              "      <td>113.467258</td>\n",
              "      <td>0.617710</td>\n",
              "      <td>1194.000000</td>\n",
              "      <td>46.902188</td>\n",
              "      <td>3.003590</td>\n",
              "    </tr>\n",
              "    <tr>\n",
              "      <th>std</th>\n",
              "      <td>163.548158</td>\n",
              "      <td>167.386678</td>\n",
              "      <td>175.861070</td>\n",
              "      <td>0.404802</td>\n",
              "      <td>1001.539615</td>\n",
              "      <td>72.850644</td>\n",
              "      <td>2.770719</td>\n",
              "    </tr>\n",
              "    <tr>\n",
              "      <th>min</th>\n",
              "      <td>1.000000</td>\n",
              "      <td>1.000000</td>\n",
              "      <td>1.000000</td>\n",
              "      <td>0.150983</td>\n",
              "      <td>400.000000</td>\n",
              "      <td>0.006080</td>\n",
              "      <td>0.097274</td>\n",
              "    </tr>\n",
              "    <tr>\n",
              "      <th>25%</th>\n",
              "      <td>18.250000</td>\n",
              "      <td>5.500000</td>\n",
              "      <td>3.190003</td>\n",
              "      <td>0.270365</td>\n",
              "      <td>450.500000</td>\n",
              "      <td>1.320513</td>\n",
              "      <td>1.115128</td>\n",
              "    </tr>\n",
              "    <tr>\n",
              "      <th>50%</th>\n",
              "      <td>44.500000</td>\n",
              "      <td>47.000000</td>\n",
              "      <td>16.193910</td>\n",
              "      <td>0.629883</td>\n",
              "      <td>768.000000</td>\n",
              "      <td>6.703526</td>\n",
              "      <td>2.120881</td>\n",
              "    </tr>\n",
              "    <tr>\n",
              "      <th>75%</th>\n",
              "      <td>208.000000</td>\n",
              "      <td>153.000000</td>\n",
              "      <td>167.968750</td>\n",
              "      <td>0.959961</td>\n",
              "      <td>1718.500000</td>\n",
              "      <td>69.531250</td>\n",
              "      <td>4.867188</td>\n",
              "    </tr>\n",
              "    <tr>\n",
              "      <th>max</th>\n",
              "      <td>400.000000</td>\n",
              "      <td>430.000000</td>\n",
              "      <td>430.000000</td>\n",
              "      <td>1.075000</td>\n",
              "      <td>2848.000000</td>\n",
              "      <td>178.000000</td>\n",
              "      <td>7.120000</td>\n",
              "    </tr>\n",
              "  </tbody>\n",
              "</table>\n",
              "</div>"
            ],
            "text/plain": [
              "          Proceso    Time [s]          Sp  ...           Cp        Sp_r     Eff_r\n",
              "count    6.000000    6.000000    6.000000  ...     6.000000    6.000000  6.000000\n",
              "mean   127.000000  117.500000  113.467258  ...  1194.000000   46.902188  3.003590\n",
              "std    163.548158  167.386678  175.861070  ...  1001.539615   72.850644  2.770719\n",
              "min      1.000000    1.000000    1.000000  ...   400.000000    0.006080  0.097274\n",
              "25%     18.250000    5.500000    3.190003  ...   450.500000    1.320513  1.115128\n",
              "50%     44.500000   47.000000   16.193910  ...   768.000000    6.703526  2.120881\n",
              "75%    208.000000  153.000000  167.968750  ...  1718.500000   69.531250  4.867188\n",
              "max    400.000000  430.000000  430.000000  ...  2848.000000  178.000000  7.120000\n",
              "\n",
              "[8 rows x 7 columns]"
            ]
          },
          "metadata": {
            "tags": []
          },
          "execution_count": 15
        },
        {
          "output_type": "display_data",
          "data": {
            "image/png": "[encoded data removed]",
            "text/plain": [
              "<Figure size 432x288 with 1 Axes>"
            ]
          },
          "metadata": {
            "tags": []
          }
        }
      ]
    },
    {
      "cell_type": "code",
      "metadata": {
        "id": "u5EZrGMkGsf3",
        "colab_type": "code",
        "colab": {}
      },
      "source": [
        ""
      ],
      "execution_count": 0,
      "outputs": []
    }
  ]
}